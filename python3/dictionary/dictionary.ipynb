{
 "cells": [
  {
   "cell_type": "markdown",
   "metadata": {},
   "source": [
    "#### DICTIONARY\n",
    "- unindexed\n",
    "- unordered -> ordered from 3.7\n",
    "- key : value pairs\n",
    "- keys are always unique\n",
    "- keys are immutable(string or tuple)\n",
    "- values can be of any type\n",
    "- {}\n",
    "- dict()"
   ]
  },
  {
   "cell_type": "code",
   "execution_count": 4,
   "metadata": {},
   "outputs": [],
   "source": [
    "bigbasket={'apple':120,\n",
    "          'onion': 23,\n",
    "          'tomato': 55,\n",
    "          'lemon': 60,\n",
    "          'orange': 55,\n",
    "          'beans':43}"
   ]
  },
  {
   "cell_type": "code",
   "execution_count": 3,
   "metadata": {},
   "outputs": [
    {
     "data": {
      "text/plain": [
       "60"
      ]
     },
     "execution_count": 3,
     "metadata": {},
     "output_type": "execute_result"
    }
   ],
   "source": [
    "bigbasket['lemon']"
   ]
  },
  {
   "cell_type": "code",
   "execution_count": 1,
   "metadata": {},
   "outputs": [
    {
     "ename": "NameError",
     "evalue": "name 'bigbasket' is not defined",
     "output_type": "error",
     "traceback": [
      "\u001b[1;31m---------------------------------------------------------------------------\u001b[0m",
      "\u001b[1;31mNameError\u001b[0m                                 Traceback (most recent call last)",
      "\u001b[1;32m<ipython-input-1-45b0eb7bd18e>\u001b[0m in \u001b[0;36m<module>\u001b[1;34m()\u001b[0m\n\u001b[1;32m----> 1\u001b[1;33m \u001b[0mbigbasket\u001b[0m\u001b[1;33m[\u001b[0m\u001b[1;34m'ginger'\u001b[0m\u001b[1;33m]\u001b[0m\u001b[1;33m\u001b[0m\u001b[0m\n\u001b[0m",
      "\u001b[1;31mNameError\u001b[0m: name 'bigbasket' is not defined"
     ]
    }
   ],
   "source": [
    "bigbasket['ginger']  #key error"
   ]
  },
  {
   "cell_type": "code",
   "execution_count": 6,
   "metadata": {},
   "outputs": [
    {
     "name": "stdout",
     "output_type": "stream",
     "text": [
      "apple\n",
      "120\n",
      "onion\n",
      "23\n",
      "tomato\n",
      "55\n",
      "lemon\n",
      "60\n",
      "orange\n",
      "55\n",
      "beans\n",
      "43\n"
     ]
    }
   ],
   "source": [
    "#no slicing or indexing\n",
    "for i in bigbasket:\n",
    "    print(i)\n",
    "    print(bigbasket[i])"
   ]
  },
  {
   "cell_type": "code",
   "execution_count": 7,
   "metadata": {},
   "outputs": [],
   "source": [
    "n= {i for i in bigbasket if i.startswith('a')}"
   ]
  },
  {
   "cell_type": "code",
   "execution_count": 8,
   "metadata": {},
   "outputs": [
    {
     "data": {
      "text/plain": [
       "{'apple'}"
      ]
     },
     "execution_count": 8,
     "metadata": {},
     "output_type": "execute_result"
    }
   ],
   "source": [
    "n"
   ]
  },
  {
   "cell_type": "code",
   "execution_count": 11,
   "metadata": {},
   "outputs": [],
   "source": [
    "s= sum({bigbasket[i] for i in bigbasket})"
   ]
  },
  {
   "cell_type": "code",
   "execution_count": 12,
   "metadata": {},
   "outputs": [
    {
     "data": {
      "text/plain": [
       "301"
      ]
     },
     "execution_count": 12,
     "metadata": {},
     "output_type": "execute_result"
    }
   ],
   "source": [
    "s"
   ]
  },
  {
   "cell_type": "markdown",
   "metadata": {},
   "source": [
    "### FUNCTIONS"
   ]
  },
  {
   "cell_type": "code",
   "execution_count": 13,
   "metadata": {},
   "outputs": [],
   "source": [
    "bigbasket.update({'watermelom':25}) # to enter a new value"
   ]
  },
  {
   "cell_type": "code",
   "execution_count": 14,
   "metadata": {},
   "outputs": [
    {
     "data": {
      "text/plain": [
       "{'apple': 120,\n",
       " 'onion': 23,\n",
       " 'tomato': 55,\n",
       " 'lemon': 60,\n",
       " 'orange': 55,\n",
       " 'beans': 43,\n",
       " 'watermelom': 25}"
      ]
     },
     "execution_count": 14,
     "metadata": {},
     "output_type": "execute_result"
    }
   ],
   "source": [
    "bigbasket"
   ]
  },
  {
   "cell_type": "code",
   "execution_count": 15,
   "metadata": {},
   "outputs": [],
   "source": [
    "bigbasket['peach']=120 #add"
   ]
  },
  {
   "cell_type": "code",
   "execution_count": 16,
   "metadata": {},
   "outputs": [],
   "source": [
    "bigbasket['apple']= 150 #update"
   ]
  },
  {
   "cell_type": "code",
   "execution_count": 17,
   "metadata": {},
   "outputs": [
    {
     "data": {
      "text/plain": [
       "{'apple': 150,\n",
       " 'onion': 23,\n",
       " 'tomato': 55,\n",
       " 'lemon': 60,\n",
       " 'orange': 55,\n",
       " 'beans': 43,\n",
       " 'watermelom': 25,\n",
       " 'peach': 120}"
      ]
     },
     "execution_count": 17,
     "metadata": {},
     "output_type": "execute_result"
    }
   ],
   "source": [
    "bigbasket"
   ]
  },
  {
   "cell_type": "code",
   "execution_count": 18,
   "metadata": {},
   "outputs": [
    {
     "data": {
      "text/plain": [
       "120"
      ]
     },
     "execution_count": 18,
     "metadata": {},
     "output_type": "execute_result"
    }
   ],
   "source": [
    "bigbasket.pop('peach')  # key error if value not found"
   ]
  },
  {
   "cell_type": "code",
   "execution_count": 19,
   "metadata": {},
   "outputs": [
    {
     "data": {
      "text/plain": [
       "('watermelom', 25)"
      ]
     },
     "execution_count": 19,
     "metadata": {},
     "output_type": "execute_result"
    }
   ],
   "source": [
    "bigbasket.popitem() # removes the last element"
   ]
  },
  {
   "cell_type": "code",
   "execution_count": 20,
   "metadata": {},
   "outputs": [
    {
     "data": {
      "text/plain": [
       "{'apple': 150,\n",
       " 'onion': 23,\n",
       " 'tomato': 55,\n",
       " 'lemon': 60,\n",
       " 'orange': 55,\n",
       " 'beans': 43}"
      ]
     },
     "execution_count": 20,
     "metadata": {},
     "output_type": "execute_result"
    }
   ],
   "source": [
    "bigbasket"
   ]
  },
  {
   "cell_type": "code",
   "execution_count": 21,
   "metadata": {},
   "outputs": [
    {
     "data": {
      "text/plain": [
       "dict_keys(['apple', 'onion', 'tomato', 'lemon', 'orange', 'beans'])"
      ]
     },
     "execution_count": 21,
     "metadata": {},
     "output_type": "execute_result"
    }
   ],
   "source": [
    "bigbasket.keys() # use the list function for printing in a list"
   ]
  },
  {
   "cell_type": "code",
   "execution_count": 22,
   "metadata": {},
   "outputs": [
    {
     "data": {
      "text/plain": [
       "dict_values([150, 23, 55, 60, 55, 43])"
      ]
     },
     "execution_count": 22,
     "metadata": {},
     "output_type": "execute_result"
    }
   ],
   "source": [
    "bigbasket.values()"
   ]
  },
  {
   "cell_type": "code",
   "execution_count": 23,
   "metadata": {},
   "outputs": [
    {
     "data": {
      "text/plain": [
       "dict_items([('apple', 150), ('onion', 23), ('tomato', 55), ('lemon', 60), ('orange', 55), ('beans', 43)])"
      ]
     },
     "execution_count": 23,
     "metadata": {},
     "output_type": "execute_result"
    }
   ],
   "source": [
    "bigbasket.items() # for printing both"
   ]
  },
  {
   "cell_type": "code",
   "execution_count": 29,
   "metadata": {},
   "outputs": [],
   "source": [
    "a=sum(bigbasket.values())"
   ]
  },
  {
   "cell_type": "code",
   "execution_count": 31,
   "metadata": {},
   "outputs": [
    {
     "name": "stdout",
     "output_type": "stream",
     "text": [
      "64.33333333333333\n"
     ]
    }
   ],
   "source": [
    "c=0\n",
    "for i in bigbasket:\n",
    "    c+=1\n",
    "t= a/c\n",
    "print(t)"
   ]
  },
  {
   "cell_type": "code",
   "execution_count": 32,
   "metadata": {},
   "outputs": [
    {
     "data": {
      "text/plain": [
       "64.33333333333333"
      ]
     },
     "execution_count": 32,
     "metadata": {},
     "output_type": "execute_result"
    }
   ],
   "source": [
    "sum(bigbasket.values())/len(bigbasket)"
   ]
  },
  {
   "cell_type": "markdown",
   "metadata": {},
   "source": [
    "#### Q:  wap to take input from user for their friends name and number"
   ]
  },
  {
   "cell_type": "code",
   "execution_count": 39,
   "metadata": {},
   "outputs": [
    {
     "name": "stdin",
     "output_type": "stream",
     "text": [
      "name: a\n",
      "no: 1\n",
      "name: b\n",
      "no: 2\n",
      "name: c\n",
      "no: 3\n",
      "name: d\n",
      "no: 4\n",
      "name: f\n",
      "no: 5\n",
      "name: h\n",
      "no: 5\n",
      "name: j\n",
      "no: 6\n",
      "name: k\n",
      "no: 8\n",
      "name: l\n",
      "no: 8\n",
      "name: s\n",
      "no: 9\n"
     ]
    },
    {
     "name": "stdout",
     "output_type": "stream",
     "text": [
      "{'a': '1', 'b': '2', 'c': '3', 'd': '4', 'f': '5', 'h': '5', 'j': '6', 'k': '8', 'l': '8', 's': '9'}\n"
     ]
    }
   ],
   "source": [
    "friends={}\n",
    "for i in range(10):\n",
    "    name= input('name:')\n",
    "    no= input('no:')\n",
    "    friends[name]= no\n",
    "print(friends)"
   ]
  },
  {
   "cell_type": "code",
   "execution_count": 1,
   "metadata": {},
   "outputs": [
    {
     "name": "stdin",
     "output_type": "stream",
     "text": [
      "value: 2\n",
      "value: 3\n",
      "value: 4\n",
      "value: 5\n",
      "value: 6\n"
     ]
    },
    {
     "name": "stdout",
     "output_type": "stream",
     "text": [
      "2 2\n",
      "3 9\n",
      "4 64\n",
      "5 625\n",
      "6 7776\n"
     ]
    }
   ],
   "source": [
    "power={}\n",
    "c=0\n",
    "for i in range(5):\n",
    "    c=c+1\n",
    "    n= int(input('value:'))\n",
    "    d=n**c\n",
    "    power[n]=d\n",
    "for i,j in power.items():\n",
    "    print(i,j)"
   ]
  },
  {
   "cell_type": "code",
   "execution_count": 1,
   "metadata": {},
   "outputs": [
    {
     "name": "stdin",
     "output_type": "stream",
     "text": [
      " 3\n",
      " ABCD 1234\n",
      " BCDGFHF 127836\n",
      " SDJKS 1245\n"
     ]
    },
    {
     "name": "stdout",
     "output_type": "stream",
     "text": [
      "CDAB CDGFHFB KSSDJ "
     ]
    }
   ],
   "source": [
    "n= int(input())\n",
    "d={}\n",
    "for i in range(n):\n",
    "    k,v= map(str,input().split())\n",
    "    d[k]=v\n",
    "for i in d:\n",
    "    if sum(list(map(int,d[i])))%2==0:\n",
    "        print(i[-2:]+i[:-2],end=\" \")\n",
    "    else:\n",
    "        print(i[1:]+i[0],end=\" \")"
   ]
  },
  {
   "cell_type": "code",
   "execution_count": 4,
   "metadata": {},
   "outputs": [
    {
     "name": "stdout",
     "output_type": "stream",
     "text": [
      "42 54\n",
      "30 24\n",
      "\n",
      "\n",
      "54 2\n",
      "24 27\n",
      "\n",
      "\n",
      "30 24\n",
      "180 190\n",
      "\n",
      "\n",
      "24 27\n",
      "190 40\n",
      "\n",
      "\n"
     ]
    }
   ],
   "source": [
    "def s(k):\n",
    "    t= sum(list(map(int,str(k))))\n",
    "    return t\n",
    "def solve(a,m,n):\n",
    "    for i in range(m-1):\n",
    "        for j in range(n-1):\n",
    "            if a[i][j]%s(a[i][j])==0 and a[i][j+1]%s(a[i][j+1])==0 and a[i+1][j]%s(a[i+1][j])==0 and a[i+1][j+1]%s(a[i+1][j+1])==0:\n",
    "                print(a[i][j],end=\" \")\n",
    "                print(a[i][j+1])\n",
    "                print(a[i+1][j],end=\" \")\n",
    "                print(a[i+1][j+1])\n",
    "                print(\"\\n\")\n",
    "a=[[42,54,2],\n",
    "  [30,24,27],\n",
    "  [180,190,40],\n",
    "  [11,121,13]]\n",
    "solve(a,4,3)"
   ]
  },
  {
   "cell_type": "code",
   "execution_count": null,
   "metadata": {},
   "outputs": [],
   "source": []
  }
 ],
 "metadata": {
  "kernelspec": {
   "display_name": "Python 3",
   "language": "python",
   "name": "python3"
  },
  "language_info": {
   "codemirror_mode": {
    "name": "ipython",
    "version": 3
   },
   "file_extension": ".py",
   "mimetype": "text/x-python",
   "name": "python",
   "nbconvert_exporter": "python",
   "pygments_lexer": "ipython3",
   "version": "3.7.0"
  }
 },
 "nbformat": 4,
 "nbformat_minor": 2
}
