{
 "cells": [
  {
   "cell_type": "code",
   "execution_count": 1,
   "metadata": {},
   "outputs": [],
   "source": [
    "civilwar= {'iron man','ant man','black widow','scarlet witch','vision','war machine','spider man',\n",
    "           'black panther','hawkeye','captain america','winter soldier','falcon'}"
   ]
  },
  {
   "cell_type": "markdown",
   "metadata": {},
   "source": [
    "### SETS\n",
    "- unindexed\n",
    "- mutable\n",
    "- every value is unique\n",
    "- {}\n",
    "- set()\n",
    "- unordered"
   ]
  },
  {
   "cell_type": "code",
   "execution_count": 17,
   "metadata": {},
   "outputs": [],
   "source": [
    "bp={'shuri','black panther','winter soldier'}"
   ]
  },
  {
   "cell_type": "code",
   "execution_count": 11,
   "metadata": {},
   "outputs": [],
   "source": [
    "infinitywar={'star lord','doctor strange','wang','gamora','nebula','thanos','yondu','rocket','hulk','groot','mantis',\n",
    "             'iron man','black widow','scarlet witch','vision','war machine','spider man','black panther'\n",
    "             ,'captain america','winter soldier','falcon','drax'}"
   ]
  },
  {
   "cell_type": "code",
   "execution_count": 4,
   "metadata": {},
   "outputs": [
    {
     "data": {
      "text/plain": [
       "{'ant man',\n",
       " 'black panther',\n",
       " 'black widow',\n",
       " 'captain america',\n",
       " 'falcon',\n",
       " 'hawkeye',\n",
       " 'iron man',\n",
       " 'scarlet witch',\n",
       " 'spider man',\n",
       " 'vision',\n",
       " 'war machine',\n",
       " 'winter soldier'}"
      ]
     },
     "execution_count": 4,
     "metadata": {},
     "output_type": "execute_result"
    }
   ],
   "source": [
    "civilwar"
   ]
  },
  {
   "cell_type": "code",
   "execution_count": 5,
   "metadata": {},
   "outputs": [
    {
     "name": "stdout",
     "output_type": "stream",
     "text": [
      "iron man\n",
      "scarlet witch\n",
      "war machine\n",
      "captain america\n",
      "vision\n",
      "black panther\n",
      "winter soldier\n",
      "falcon\n",
      "ant man\n",
      "hawkeye\n",
      "spider man\n",
      "black widow\n"
     ]
    }
   ],
   "source": [
    "for hero in civilwar:\n",
    "    print(hero)"
   ]
  },
  {
   "cell_type": "code",
   "execution_count": 6,
   "metadata": {},
   "outputs": [],
   "source": [
    "x={1,2123,1,34,3,45,31,45,2,21,455,}"
   ]
  },
  {
   "cell_type": "code",
   "execution_count": 7,
   "metadata": {},
   "outputs": [
    {
     "data": {
      "text/plain": [
       "{1, 2, 3, 21, 31, 34, 45, 455, 2123}"
      ]
     },
     "execution_count": 7,
     "metadata": {},
     "output_type": "execute_result"
    }
   ],
   "source": [
    "x"
   ]
  },
  {
   "cell_type": "code",
   "execution_count": 8,
   "metadata": {},
   "outputs": [
    {
     "ename": "TypeError",
     "evalue": "'set' object does not support indexing",
     "output_type": "error",
     "traceback": [
      "\u001b[1;31m---------------------------------------------------------------------------\u001b[0m",
      "\u001b[1;31mTypeError\u001b[0m                                 Traceback (most recent call last)",
      "\u001b[1;32m<ipython-input-8-2f755f117ac9>\u001b[0m in \u001b[0;36m<module>\u001b[1;34m()\u001b[0m\n\u001b[1;32m----> 1\u001b[1;33m \u001b[0mx\u001b[0m\u001b[1;33m[\u001b[0m\u001b[1;36m0\u001b[0m\u001b[1;33m]\u001b[0m\u001b[1;33m\u001b[0m\u001b[0m\n\u001b[0m",
      "\u001b[1;31mTypeError\u001b[0m: 'set' object does not support indexing"
     ]
    }
   ],
   "source": [
    "x[0] # does not support indexing"
   ]
  },
  {
   "cell_type": "code",
   "execution_count": 9,
   "metadata": {},
   "outputs": [
    {
     "ename": "TypeError",
     "evalue": "'set' object is not subscriptable",
     "output_type": "error",
     "traceback": [
      "\u001b[1;31m---------------------------------------------------------------------------\u001b[0m",
      "\u001b[1;31mTypeError\u001b[0m                                 Traceback (most recent call last)",
      "\u001b[1;32m<ipython-input-9-2960a83a1f50>\u001b[0m in \u001b[0;36m<module>\u001b[1;34m()\u001b[0m\n\u001b[1;32m----> 1\u001b[1;33m \u001b[0mx\u001b[0m\u001b[1;33m[\u001b[0m\u001b[1;36m2\u001b[0m\u001b[1;33m:\u001b[0m\u001b[1;33m]\u001b[0m\u001b[1;33m\u001b[0m\u001b[0m\n\u001b[0m",
      "\u001b[1;31mTypeError\u001b[0m: 'set' object is not subscriptable"
     ]
    }
   ],
   "source": [
    "x[2:] # no slicing"
   ]
  },
  {
   "cell_type": "code",
   "execution_count": 10,
   "metadata": {},
   "outputs": [
    {
     "name": "stdout",
     "output_type": "stream",
     "text": [
      "{34, 2}\n"
     ]
    }
   ],
   "source": [
    "n= {i for i in x if i%2==0}\n",
    "print(n)"
   ]
  },
  {
   "cell_type": "code",
   "execution_count": 12,
   "metadata": {},
   "outputs": [
    {
     "ename": "TypeError",
     "evalue": "unsupported operand type(s) for +: 'set' and 'set'",
     "output_type": "error",
     "traceback": [
      "\u001b[1;31m---------------------------------------------------------------------------\u001b[0m",
      "\u001b[1;31mTypeError\u001b[0m                                 Traceback (most recent call last)",
      "\u001b[1;32m<ipython-input-12-a94be5441f18>\u001b[0m in \u001b[0;36m<module>\u001b[1;34m()\u001b[0m\n\u001b[1;32m----> 1\u001b[1;33m \u001b[0mx\u001b[0m\u001b[1;33m+\u001b[0m\u001b[0mx\u001b[0m\u001b[1;33m\u001b[0m\u001b[0m\n\u001b[0m",
      "\u001b[1;31mTypeError\u001b[0m: unsupported operand type(s) for +: 'set' and 'set'"
     ]
    }
   ],
   "source": [
    "x+x "
   ]
  },
  {
   "cell_type": "code",
   "execution_count": 13,
   "metadata": {},
   "outputs": [],
   "source": [
    "infinitywar.add('nick fury')"
   ]
  },
  {
   "cell_type": "code",
   "execution_count": 14,
   "metadata": {},
   "outputs": [],
   "source": [
    "infinitywar.add('vision')  # duplicate items are not added"
   ]
  },
  {
   "cell_type": "code",
   "execution_count": 15,
   "metadata": {},
   "outputs": [
    {
     "data": {
      "text/plain": [
       "{'black panther',\n",
       " 'black widow',\n",
       " 'captain america',\n",
       " 'doctor strange',\n",
       " 'drax',\n",
       " 'falcon',\n",
       " 'gamora',\n",
       " 'groot',\n",
       " 'hulk',\n",
       " 'iron man',\n",
       " 'mantis',\n",
       " 'nebula',\n",
       " 'nick fury',\n",
       " 'rocket',\n",
       " 'scarlet witch',\n",
       " 'spider man',\n",
       " 'star lord',\n",
       " 'thanos',\n",
       " 'vision',\n",
       " 'wang',\n",
       " 'war machine',\n",
       " 'winter soldier',\n",
       " 'yondu'}"
      ]
     },
     "execution_count": 15,
     "metadata": {},
     "output_type": "execute_result"
    }
   ],
   "source": [
    "infinitywar"
   ]
  },
  {
   "cell_type": "code",
   "execution_count": 18,
   "metadata": {},
   "outputs": [],
   "source": [
    "bp.remove('winter soldier') # if the value does not exist it gives key error"
   ]
  },
  {
   "cell_type": "code",
   "execution_count": 19,
   "metadata": {},
   "outputs": [],
   "source": [
    "bp.discard('winter soldier') # better than remove as it does not give error if value does not exist"
   ]
  },
  {
   "cell_type": "code",
   "execution_count": 20,
   "metadata": {},
   "outputs": [
    {
     "data": {
      "text/plain": [
       "'drax'"
      ]
     },
     "execution_count": 20,
     "metadata": {},
     "output_type": "execute_result"
    }
   ],
   "source": [
    "infinitywar.pop() # removes a random value"
   ]
  },
  {
   "cell_type": "code",
   "execution_count": 21,
   "metadata": {},
   "outputs": [
    {
     "data": {
      "text/plain": [
       "False"
      ]
     },
     "execution_count": 21,
     "metadata": {},
     "output_type": "execute_result"
    }
   ],
   "source": [
    "infinitywar.issuperset(civilwar)"
   ]
  },
  {
   "cell_type": "code",
   "execution_count": 22,
   "metadata": {},
   "outputs": [
    {
     "data": {
      "text/plain": [
       "False"
      ]
     },
     "execution_count": 22,
     "metadata": {},
     "output_type": "execute_result"
    }
   ],
   "source": [
    "civilwar.issuperset(bp)"
   ]
  },
  {
   "cell_type": "code",
   "execution_count": 23,
   "metadata": {},
   "outputs": [],
   "source": [
    "jl={'batman','superman','wonder woman'}"
   ]
  },
  {
   "cell_type": "code",
   "execution_count": 24,
   "metadata": {},
   "outputs": [
    {
     "data": {
      "text/plain": [
       "True"
      ]
     },
     "execution_count": 24,
     "metadata": {},
     "output_type": "execute_result"
    }
   ],
   "source": [
    "civilwar.isdisjoint(jl)"
   ]
  },
  {
   "cell_type": "code",
   "execution_count": 25,
   "metadata": {},
   "outputs": [
    {
     "data": {
      "text/plain": [
       "{'doctor strange',\n",
       " 'gamora',\n",
       " 'groot',\n",
       " 'hulk',\n",
       " 'mantis',\n",
       " 'nebula',\n",
       " 'nick fury',\n",
       " 'rocket',\n",
       " 'star lord',\n",
       " 'thanos',\n",
       " 'wang',\n",
       " 'yondu'}"
      ]
     },
     "execution_count": 25,
     "metadata": {},
     "output_type": "execute_result"
    }
   ],
   "source": [
    "infinitywar.difference(civilwar)"
   ]
  },
  {
   "cell_type": "code",
   "execution_count": 26,
   "metadata": {},
   "outputs": [],
   "source": [
    "mcu= infinitywar.union(bp).union(civilwar)"
   ]
  },
  {
   "cell_type": "code",
   "execution_count": 27,
   "metadata": {},
   "outputs": [
    {
     "data": {
      "text/plain": [
       "{'ant man',\n",
       " 'black panther',\n",
       " 'black widow',\n",
       " 'captain america',\n",
       " 'doctor strange',\n",
       " 'falcon',\n",
       " 'gamora',\n",
       " 'groot',\n",
       " 'hawkeye',\n",
       " 'hulk',\n",
       " 'iron man',\n",
       " 'mantis',\n",
       " 'nebula',\n",
       " 'nick fury',\n",
       " 'rocket',\n",
       " 'scarlet witch',\n",
       " 'shuri',\n",
       " 'spider man',\n",
       " 'star lord',\n",
       " 'thanos',\n",
       " 'vision',\n",
       " 'wang',\n",
       " 'war machine',\n",
       " 'winter soldier',\n",
       " 'yondu'}"
      ]
     },
     "execution_count": 27,
     "metadata": {},
     "output_type": "execute_result"
    }
   ],
   "source": [
    "mcu"
   ]
  },
  {
   "cell_type": "code",
   "execution_count": 28,
   "metadata": {},
   "outputs": [
    {
     "data": {
      "text/plain": [
       "{'black panther',\n",
       " 'black widow',\n",
       " 'captain america',\n",
       " 'falcon',\n",
       " 'iron man',\n",
       " 'scarlet witch',\n",
       " 'spider man',\n",
       " 'vision',\n",
       " 'war machine',\n",
       " 'winter soldier'}"
      ]
     },
     "execution_count": 28,
     "metadata": {},
     "output_type": "execute_result"
    }
   ],
   "source": [
    "infinitywar.intersection(civilwar)"
   ]
  },
  {
   "cell_type": "code",
   "execution_count": 31,
   "metadata": {},
   "outputs": [],
   "source": [
    "endgame={'valkyrie','captain marvel','pepper potts','wasp','ant man','hawkeye'}"
   ]
  },
  {
   "cell_type": "code",
   "execution_count": 32,
   "metadata": {},
   "outputs": [
    {
     "data": {
      "text/plain": [
       "{'ant man',\n",
       " 'black panther',\n",
       " 'black widow',\n",
       " 'captain america',\n",
       " 'captain marvel',\n",
       " 'doctor strange',\n",
       " 'falcon',\n",
       " 'gamora',\n",
       " 'groot',\n",
       " 'hawkeye',\n",
       " 'hulk',\n",
       " 'iron man',\n",
       " 'mantis',\n",
       " 'nebula',\n",
       " 'nick fury',\n",
       " 'pepper potts',\n",
       " 'rocket',\n",
       " 'scarlet witch',\n",
       " 'spider man',\n",
       " 'star lord',\n",
       " 'thanos',\n",
       " 'valkyrie',\n",
       " 'vision',\n",
       " 'wang',\n",
       " 'war machine',\n",
       " 'wasp',\n",
       " 'winter soldier',\n",
       " 'yondu'}"
      ]
     },
     "execution_count": 32,
     "metadata": {},
     "output_type": "execute_result"
    }
   ],
   "source": [
    "infinitywar.symmetric_difference(endgame)"
   ]
  },
  {
   "cell_type": "code",
   "execution_count": 34,
   "metadata": {},
   "outputs": [
    {
     "data": {
      "text/plain": [
       "{'ant man', 'batman', 'hawkeye', 'shuri', 'superman', 'wonder woman'}"
      ]
     },
     "execution_count": 34,
     "metadata": {},
     "output_type": "execute_result"
    }
   ],
   "source": [
    "mj= mcu.union(jl)\n",
    "infinitywar.symmetric_difference(mj)"
   ]
  },
  {
   "cell_type": "markdown",
   "metadata": {},
   "source": [
    "#### Q: wap to enter two sets from the user and find the common elements"
   ]
  },
  {
   "cell_type": "code",
   "execution_count": null,
   "metadata": {},
   "outputs": [],
   "source": [
    "s1= set()\n",
    "s2= set()\n",
    "for i in range(10):\n",
    "    s1= input(\"enter elements 1:\")\n",
    "for i in range(10):\n",
    "    s2= input(\"enter elements 2:\")\n",
    "s1.intersection(s2)\n",
    "    "
   ]
  },
  {
   "cell_type": "code",
   "execution_count": 4,
   "metadata": {},
   "outputs": [
    {
     "name": "stdout",
     "output_type": "stream",
     "text": [
      "<class 'dict'>\n",
      "<class 'set'>\n"
     ]
    }
   ],
   "source": [
    "# empty set\n",
    "x= {}\n",
    "print(type(x))\n",
    "x= set() # empty set\n",
    "print(type(x))"
   ]
  },
  {
   "cell_type": "code",
   "execution_count": null,
   "metadata": {},
   "outputs": [],
   "source": []
  }
 ],
 "metadata": {
  "kernelspec": {
   "display_name": "Python 3",
   "language": "python",
   "name": "python3"
  },
  "language_info": {
   "codemirror_mode": {
    "name": "ipython",
    "version": 3
   },
   "file_extension": ".py",
   "mimetype": "text/x-python",
   "name": "python",
   "nbconvert_exporter": "python",
   "pygments_lexer": "ipython3",
   "version": "3.7.0"
  }
 },
 "nbformat": 4,
 "nbformat_minor": 2
}
